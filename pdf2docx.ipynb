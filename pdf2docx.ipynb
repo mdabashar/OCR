{
 "cells": [
  {
   "cell_type": "code",
   "execution_count": 3,
   "id": "f3306271",
   "metadata": {},
   "outputs": [],
   "source": [
    "import win32com.client\n",
    "word = win32com.client.Dispatch(\"Word.Application\")\n",
    "word.visible = 1\n",
    "path = r'C:\\Users\\basharm\\OneDrive - Queensland University of Technology\\JupyterPythonQUT\\Kadastre_Project\\pdf2docx'\n",
    "pdfdoc = path+'\\SP149292.pdf'\n",
    "todocx = path+'\\SP149292.docx'\n",
    "wb1 = word.Documents.Open(pdfdoc)\n",
    "wb1.SaveAs(todocx, FileFormat=16)  # file format for docx\n",
    "wb1.Close()\n",
    "word.Quit()"
   ]
  }
 ],
 "metadata": {
  "kernelspec": {
   "display_name": "Python 3 (ipykernel)",
   "language": "python",
   "name": "python3"
  },
  "language_info": {
   "codemirror_mode": {
    "name": "ipython",
    "version": 3
   },
   "file_extension": ".py",
   "mimetype": "text/x-python",
   "name": "python",
   "nbconvert_exporter": "python",
   "pygments_lexer": "ipython3",
   "version": "3.11.5"
  }
 },
 "nbformat": 4,
 "nbformat_minor": 5
}
